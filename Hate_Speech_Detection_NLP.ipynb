{
 "cells": [
  {
   "cell_type": "code",
   "execution_count": 1,
   "metadata": {},
   "outputs": [],
   "source": [
    "#For Data Manipulation\n",
    "import pandas as pd\n",
    "import numpy as np\n",
    "\n",
    "#For plotting\n",
    "import matplotlib.pyplot as plt\n",
    "\n",
    "# For NLP\n",
    "import re\n",
    "from nltk.corpus import stopwords #for stopwords\n",
    "from nltk import word_tokenize   #for tokenization\n",
    "from nltk.stem import WordNetLemmatizer  # for lemmatization\n",
    "from nltk.probability import FreqDist  # Frequency distribution\n",
    "from sklearn.feature_extraction.text import TfidfVectorizer # for feature extraction\n",
    "\n",
    "#Modelling\n",
    "from sklearn.model_selection import train_test_split #Splitting dataset into train and test\n",
    "from sklearn.linear_model import LogisticRegression\n",
    "from sklearn.naive_bayes import GaussianNB\n",
    "from sklearn.ensemble import RandomForestClassifier\n",
    "from xgboost import XGBClassifier\n",
    "\n",
    "# Metrics\n",
    "from sklearn.metrics import precision_score, recall_score, f1_score, accuracy_score, confusion_matrix, ConfusionMatrixDisplay, classification_report \n",
    "\n"
   ]
  },
  {
   "cell_type": "code",
   "execution_count": 2,
   "metadata": {},
   "outputs": [],
   "source": [
    "df = pd.read_csv(r\"F:\\IVY\\MACHINE LEARNING\\Case Study\\Hate Speech Detection\\HateSpeechDataset.csv\")"
   ]
  },
  {
   "cell_type": "code",
   "execution_count": 3,
   "metadata": {},
   "outputs": [
    {
     "data": {
      "text/html": [
       "<div>\n",
       "<style scoped>\n",
       "    .dataframe tbody tr th:only-of-type {\n",
       "        vertical-align: middle;\n",
       "    }\n",
       "\n",
       "    .dataframe tbody tr th {\n",
       "        vertical-align: top;\n",
       "    }\n",
       "\n",
       "    .dataframe thead th {\n",
       "        text-align: right;\n",
       "    }\n",
       "</style>\n",
       "<table border=\"1\" class=\"dataframe\">\n",
       "  <thead>\n",
       "    <tr style=\"text-align: right;\">\n",
       "      <th></th>\n",
       "      <th>Content</th>\n",
       "      <th>Label</th>\n",
       "    </tr>\n",
       "  </thead>\n",
       "  <tbody>\n",
       "    <tr>\n",
       "      <th>0</th>\n",
       "      <td>denial of normal the con be asked to comment o...</td>\n",
       "      <td>1</td>\n",
       "    </tr>\n",
       "    <tr>\n",
       "      <th>1</th>\n",
       "      <td>just by being able to tweet this insufferable ...</td>\n",
       "      <td>1</td>\n",
       "    </tr>\n",
       "    <tr>\n",
       "      <th>2</th>\n",
       "      <td>that is retarded you too cute to be single tha...</td>\n",
       "      <td>1</td>\n",
       "    </tr>\n",
       "    <tr>\n",
       "      <th>3</th>\n",
       "      <td>thought of a real badass mongol style declarat...</td>\n",
       "      <td>1</td>\n",
       "    </tr>\n",
       "    <tr>\n",
       "      <th>4</th>\n",
       "      <td>afro american basho</td>\n",
       "      <td>1</td>\n",
       "    </tr>\n",
       "  </tbody>\n",
       "</table>\n",
       "</div>"
      ],
      "text/plain": [
       "                                             Content  Label\n",
       "0  denial of normal the con be asked to comment o...      1\n",
       "1  just by being able to tweet this insufferable ...      1\n",
       "2  that is retarded you too cute to be single tha...      1\n",
       "3  thought of a real badass mongol style declarat...      1\n",
       "4                                afro american basho      1"
      ]
     },
     "execution_count": 3,
     "metadata": {},
     "output_type": "execute_result"
    }
   ],
   "source": [
    "df.head()"
   ]
  },
  {
   "cell_type": "code",
   "execution_count": 4,
   "metadata": {},
   "outputs": [
    {
     "data": {
      "text/plain": [
       "Content    0\n",
       "Label      0\n",
       "dtype: int64"
      ]
     },
     "execution_count": 4,
     "metadata": {},
     "output_type": "execute_result"
    }
   ],
   "source": [
    "df.isnull().sum()"
   ]
  },
  {
   "cell_type": "code",
   "execution_count": 5,
   "metadata": {},
   "outputs": [
    {
     "data": {
      "text/plain": [
       "25046"
      ]
     },
     "execution_count": 5,
     "metadata": {},
     "output_type": "execute_result"
    }
   ],
   "source": [
    "df.duplicated().sum()"
   ]
  },
  {
   "cell_type": "code",
   "execution_count": 6,
   "metadata": {},
   "outputs": [],
   "source": [
    "df = df.drop_duplicates()"
   ]
  },
  {
   "cell_type": "code",
   "execution_count": 7,
   "metadata": {},
   "outputs": [
    {
     "data": {
      "text/plain": [
       "0"
      ]
     },
     "execution_count": 7,
     "metadata": {},
     "output_type": "execute_result"
    }
   ],
   "source": [
    "df.duplicated().sum()"
   ]
  },
  {
   "cell_type": "code",
   "execution_count": 8,
   "metadata": {},
   "outputs": [
    {
     "name": "stdout",
     "output_type": "stream",
     "text": [
      "<class 'pandas.core.frame.DataFrame'>\n",
      "Index: 701073 entries, 0 to 726118\n",
      "Data columns (total 2 columns):\n",
      " #   Column   Non-Null Count   Dtype \n",
      "---  ------   --------------   ----- \n",
      " 0   Content  701073 non-null  object\n",
      " 1   Label    701073 non-null  int64 \n",
      "dtypes: int64(1), object(1)\n",
      "memory usage: 16.0+ MB\n"
     ]
    }
   ],
   "source": [
    "df.info()"
   ]
  },
  {
   "cell_type": "code",
   "execution_count": 9,
   "metadata": {},
   "outputs": [
    {
     "data": {
      "text/html": [
       "<div>\n",
       "<style scoped>\n",
       "    .dataframe tbody tr th:only-of-type {\n",
       "        vertical-align: middle;\n",
       "    }\n",
       "\n",
       "    .dataframe tbody tr th {\n",
       "        vertical-align: top;\n",
       "    }\n",
       "\n",
       "    .dataframe thead th {\n",
       "        text-align: right;\n",
       "    }\n",
       "</style>\n",
       "<table border=\"1\" class=\"dataframe\">\n",
       "  <thead>\n",
       "    <tr style=\"text-align: right;\">\n",
       "      <th></th>\n",
       "      <th>Content</th>\n",
       "      <th>Label</th>\n",
       "    </tr>\n",
       "  </thead>\n",
       "  <tbody>\n",
       "    <tr>\n",
       "      <th>count</th>\n",
       "      <td>701073</td>\n",
       "      <td>701073.000000</td>\n",
       "    </tr>\n",
       "    <tr>\n",
       "      <th>unique</th>\n",
       "      <td>700067</td>\n",
       "      <td>NaN</td>\n",
       "    </tr>\n",
       "    <tr>\n",
       "      <th>top</th>\n",
       "      <td>what are you talking about</td>\n",
       "      <td>NaN</td>\n",
       "    </tr>\n",
       "    <tr>\n",
       "      <th>freq</th>\n",
       "      <td>2</td>\n",
       "      <td>NaN</td>\n",
       "    </tr>\n",
       "    <tr>\n",
       "      <th>mean</th>\n",
       "      <td>NaN</td>\n",
       "      <td>0.512211</td>\n",
       "    </tr>\n",
       "    <tr>\n",
       "      <th>std</th>\n",
       "      <td>NaN</td>\n",
       "      <td>0.499851</td>\n",
       "    </tr>\n",
       "    <tr>\n",
       "      <th>min</th>\n",
       "      <td>NaN</td>\n",
       "      <td>0.000000</td>\n",
       "    </tr>\n",
       "    <tr>\n",
       "      <th>25%</th>\n",
       "      <td>NaN</td>\n",
       "      <td>0.000000</td>\n",
       "    </tr>\n",
       "    <tr>\n",
       "      <th>50%</th>\n",
       "      <td>NaN</td>\n",
       "      <td>1.000000</td>\n",
       "    </tr>\n",
       "    <tr>\n",
       "      <th>75%</th>\n",
       "      <td>NaN</td>\n",
       "      <td>1.000000</td>\n",
       "    </tr>\n",
       "    <tr>\n",
       "      <th>max</th>\n",
       "      <td>NaN</td>\n",
       "      <td>1.000000</td>\n",
       "    </tr>\n",
       "  </tbody>\n",
       "</table>\n",
       "</div>"
      ],
      "text/plain": [
       "                           Content          Label\n",
       "count                       701073  701073.000000\n",
       "unique                      700067            NaN\n",
       "top     what are you talking about            NaN\n",
       "freq                             2            NaN\n",
       "mean                           NaN       0.512211\n",
       "std                            NaN       0.499851\n",
       "min                            NaN       0.000000\n",
       "25%                            NaN       0.000000\n",
       "50%                            NaN       1.000000\n",
       "75%                            NaN       1.000000\n",
       "max                            NaN       1.000000"
      ]
     },
     "execution_count": 9,
     "metadata": {},
     "output_type": "execute_result"
    }
   ],
   "source": [
    "df.describe(include=\"all\")"
   ]
  },
  {
   "cell_type": "code",
   "execution_count": null,
   "metadata": {},
   "outputs": [],
   "source": []
  },
  {
   "cell_type": "markdown",
   "metadata": {},
   "source": [
    "# TEXT PREPROCESSING"
   ]
  },
  {
   "cell_type": "code",
   "execution_count": 10,
   "metadata": {},
   "outputs": [],
   "source": [
    "# Removing unnessarry punctuations using regular expression\n",
    "df[\"Content2\"]= df[\"Content\"].apply(lambda x: re.findall('[^!.? ]+',x))"
   ]
  },
  {
   "cell_type": "code",
   "execution_count": 11,
   "metadata": {},
   "outputs": [],
   "source": [
    "# Converting all words into small letter\n",
    "df[\"Content2\"]= df[\"Content\"].apply(lambda x: x.lower())"
   ]
  },
  {
   "cell_type": "code",
   "execution_count": 12,
   "metadata": {},
   "outputs": [],
   "source": [
    "# Removing Stopwords\n",
    "\n",
    "# Load the list of English stopwords\n",
    "stop_words = set(stopwords.words('english'))\n",
    "\n",
    "# Remove stopwords\n",
    "df[\"Content3\"] = df[\"Content2\"].apply(lambda x: ' '.join(word for word in x.split() if word not in stop_words))\n"
   ]
  },
  {
   "cell_type": "code",
   "execution_count": 15,
   "metadata": {},
   "outputs": [],
   "source": [
    "from nltk import word_tokenize\n",
    "df['Content_tokenized'] = df['Content3'].apply(word_tokenize)"
   ]
  },
  {
   "cell_type": "code",
   "execution_count": 16,
   "metadata": {},
   "outputs": [],
   "source": [
    "df = df.drop(columns=['Content2', 'Content3'], axis=1)"
   ]
  },
  {
   "cell_type": "code",
   "execution_count": 18,
   "metadata": {},
   "outputs": [],
   "source": [
    "from nltk.stem import WordNetLemmatizer\n",
    "\n",
    "# Instantiate the lemmatizer\n",
    "lemmatizer = WordNetLemmatizer()\n",
    "\n",
    "# Apply lemmatization to each token in the 'Content_tokenized' column\n",
    "df['Content_lemma'] = df['Content_tokenized'].apply(lambda tokens: [lemmatizer.lemmatize(token) for token in tokens])\n"
   ]
  },
  {
   "cell_type": "code",
   "execution_count": 19,
   "metadata": {},
   "outputs": [
    {
     "data": {
      "text/html": [
       "<div>\n",
       "<style scoped>\n",
       "    .dataframe tbody tr th:only-of-type {\n",
       "        vertical-align: middle;\n",
       "    }\n",
       "\n",
       "    .dataframe tbody tr th {\n",
       "        vertical-align: top;\n",
       "    }\n",
       "\n",
       "    .dataframe thead th {\n",
       "        text-align: right;\n",
       "    }\n",
       "</style>\n",
       "<table border=\"1\" class=\"dataframe\">\n",
       "  <thead>\n",
       "    <tr style=\"text-align: right;\">\n",
       "      <th></th>\n",
       "      <th>Content</th>\n",
       "      <th>Label</th>\n",
       "      <th>Content_tokenized</th>\n",
       "      <th>Content_lemma</th>\n",
       "    </tr>\n",
       "  </thead>\n",
       "  <tbody>\n",
       "    <tr>\n",
       "      <th>0</th>\n",
       "      <td>denial of normal the con be asked to comment o...</td>\n",
       "      <td>1</td>\n",
       "      <td>[denial, normal, con, asked, comment, tragedie...</td>\n",
       "      <td>[denial, normal, con, asked, comment, tragedy,...</td>\n",
       "    </tr>\n",
       "    <tr>\n",
       "      <th>1</th>\n",
       "      <td>just by being able to tweet this insufferable ...</td>\n",
       "      <td>1</td>\n",
       "      <td>[able, tweet, insufferable, bullshit, proves, ...</td>\n",
       "      <td>[able, tweet, insufferable, bullshit, prof, tr...</td>\n",
       "    </tr>\n",
       "    <tr>\n",
       "      <th>2</th>\n",
       "      <td>that is retarded you too cute to be single tha...</td>\n",
       "      <td>1</td>\n",
       "      <td>[retarded, cute, single, life]</td>\n",
       "      <td>[retarded, cute, single, life]</td>\n",
       "    </tr>\n",
       "    <tr>\n",
       "      <th>3</th>\n",
       "      <td>thought of a real badass mongol style declarat...</td>\n",
       "      <td>1</td>\n",
       "      <td>[thought, real, badass, mongol, style, declara...</td>\n",
       "      <td>[thought, real, badass, mongol, style, declara...</td>\n",
       "    </tr>\n",
       "    <tr>\n",
       "      <th>4</th>\n",
       "      <td>afro american basho</td>\n",
       "      <td>1</td>\n",
       "      <td>[afro, american, basho]</td>\n",
       "      <td>[afro, american, basho]</td>\n",
       "    </tr>\n",
       "  </tbody>\n",
       "</table>\n",
       "</div>"
      ],
      "text/plain": [
       "                                             Content  Label  \\\n",
       "0  denial of normal the con be asked to comment o...      1   \n",
       "1  just by being able to tweet this insufferable ...      1   \n",
       "2  that is retarded you too cute to be single tha...      1   \n",
       "3  thought of a real badass mongol style declarat...      1   \n",
       "4                                afro american basho      1   \n",
       "\n",
       "                                   Content_tokenized  \\\n",
       "0  [denial, normal, con, asked, comment, tragedie...   \n",
       "1  [able, tweet, insufferable, bullshit, proves, ...   \n",
       "2                     [retarded, cute, single, life]   \n",
       "3  [thought, real, badass, mongol, style, declara...   \n",
       "4                            [afro, american, basho]   \n",
       "\n",
       "                                       Content_lemma  \n",
       "0  [denial, normal, con, asked, comment, tragedy,...  \n",
       "1  [able, tweet, insufferable, bullshit, prof, tr...  \n",
       "2                     [retarded, cute, single, life]  \n",
       "3  [thought, real, badass, mongol, style, declara...  \n",
       "4                            [afro, american, basho]  "
      ]
     },
     "execution_count": 19,
     "metadata": {},
     "output_type": "execute_result"
    }
   ],
   "source": [
    "df.head()"
   ]
  },
  {
   "cell_type": "code",
   "execution_count": 20,
   "metadata": {},
   "outputs": [
    {
     "name": "stdout",
     "output_type": "stream",
     "text": [
      "[('article', 111606), ('slut', 98426), ('page', 91566), ('like', 89411), ('would', 72729), ('one', 72308), ('people', 70033), ('wikipedia', 67282), ('whatever', 59678), ('see', 56995), ('get', 54221), ('know', 52817), ('think', 52635), ('please', 51843), ('talk', 50557), ('time', 44301), ('make', 42843), ('fuck', 42484), ('go', 40542), ('also', 39411)]\n"
     ]
    },
    {
     "data": {
      "text/plain": [
       "<Axes: xlabel='Samples', ylabel='Counts'>"
      ]
     },
     "execution_count": 20,
     "metadata": {},
     "output_type": "execute_result"
    },
    {
     "data": {
      "image/png": "[encoded data removed]",
      "text/plain": [
       "<Figure size 640x480 with 1 Axes>"
      ]
     },
     "metadata": {},
     "output_type": "display_data"
    }
   ],
   "source": [
    "from nltk.probability import FreqDist\n",
    "\n",
    "# Converting all the rows into one single list\n",
    "all_tokens = [token for token_list in df[\"Content_lemma\"] for token in token_list]\n",
    "\n",
    "# Applying frequency distribution\n",
    "freq_dist = FreqDist(all_tokens)\n",
    "\n",
    "# Display the frequencies\n",
    "print(freq_dist.most_common(20))\n",
    "\n",
    "# Visualize the top 10 most common words\n",
    "freq_dist.plot(20)"
   ]
  },
  {
   "cell_type": "markdown",
   "metadata": {},
   "source": [
    "# FEATURE ENGINEERING"
   ]
  },
  {
   "cell_type": "code",
   "execution_count": 35,
   "metadata": {},
   "outputs": [],
   "source": [
    "# Converting into numerical using TF-IDF and splitting into test and train\n",
    "\n",
    "df[\"content_text\"] = df['Content_lemma'].apply(lambda x: ' '.join(x))\n",
    "\n",
    "# Split into training and testing sets\n",
    "X_train, X_test, y_train, y_test = train_test_split(df['content_text'], df['Label'], test_size=0.2, random_state=42)\n",
    "\n",
    "# Initialize TfidfVectorizer with n-grams (unigrams and bigrams)\n",
    "tfidf = TfidfVectorizer(ngram_range=(1, 2))  # Include unigrams and bigrams\n",
    "\n",
    "# Fit on training data and transform both training and test data\n",
    "X_train_tfidf = tfidf.fit_transform(X_train)\n",
    "X_test_tfidf = tfidf.transform(X_test)\n"
   ]
  },
  {
   "cell_type": "markdown",
   "metadata": {},
   "source": [
    "# MODEL BUILDING"
   ]
  },
  {
   "cell_type": "code",
   "execution_count": null,
   "metadata": {},
   "outputs": [],
   "source": [
    "\n",
    "# Models and their parameters\n",
    "models = [\n",
    "    {'name': 'Logistic Regression', 'model': LogisticRegression(), 'params': {}},\n",
    "    {'name': 'Random Forest', 'model': RandomForestClassifier(), 'params': {'n_estimators': 100, 'max_depth': 5}},\n",
    "    {'name': 'XGBoost', 'model': XGBClassifier(), 'params': {'n_estimators': 100, 'learning_rate': 0.1, 'max_depth': 5}}\n",
    "]\n",
    "\n",
    "# Results DataFrame\n",
    "results = []\n",
    "\n",
    "# Loop through models\n",
    "for model_info in models:\n",
    "    name = model_info['name']\n",
    "    model = model_info['model']\n",
    "    params = model_info['params']\n",
    "\n",
    "    # Set parameters\n",
    "    model.set_params(**params)\n",
    "\n",
    "    # Train the model\n",
    "    model.fit(X_train_tfidf, y_train)\n",
    "\n",
    "    # Predictions\n",
    "    y_train_pred = model.predict(X_train_tfidf)\n",
    "    y_test_pred = model.predict(X_test_tfidf)\n",
    "\n",
    "    # Metrics\n",
    "    Precision = precision_score(y_test, y_test_pred)\n",
    "    Recall = recall_score(y_test, y_test_pred)\n",
    "\n",
    "    F1_Score = f1_score(y_train, y_train_pred)\n",
    "    Accuracy = accuracy_score(y_test, y_test_pred)\n",
    "\n",
    "    # Collect results\n",
    "    results.append({\n",
    "        'Model Name': name,\n",
    "        'Parameters': params,\n",
    "        'Precision': Precision,\n",
    "        'Recall': Recall,\n",
    "        'F1_Score': F1_Score,\n",
    "        'Accuracy': Accuracy\n",
    "    })\n",
    "\n",
    "\n",
    "# Convert to DataFrame\n",
    "results_df = pd.DataFrame(results)"
   ]
  },
  {
   "cell_type": "code",
   "execution_count": 40,
   "metadata": {},
   "outputs": [
    {
     "data": {
      "text/html": [
       "<div>\n",
       "<style scoped>\n",
       "    .dataframe tbody tr th:only-of-type {\n",
       "        vertical-align: middle;\n",
       "    }\n",
       "\n",
       "    .dataframe tbody tr th {\n",
       "        vertical-align: top;\n",
       "    }\n",
       "\n",
       "    .dataframe thead th {\n",
       "        text-align: right;\n",
       "    }\n",
       "</style>\n",
       "<table border=\"1\" class=\"dataframe\">\n",
       "  <thead>\n",
       "    <tr style=\"text-align: right;\">\n",
       "      <th></th>\n",
       "      <th>Model Name</th>\n",
       "      <th>Parameters</th>\n",
       "      <th>Precision</th>\n",
       "      <th>Recall</th>\n",
       "      <th>F1_Score</th>\n",
       "      <th>Accuracy</th>\n",
       "    </tr>\n",
       "  </thead>\n",
       "  <tbody>\n",
       "    <tr>\n",
       "      <th>0</th>\n",
       "      <td>Logistic Regression</td>\n",
       "      <td>{}</td>\n",
       "      <td>0.835768</td>\n",
       "      <td>0.881452</td>\n",
       "      <td>0.903716</td>\n",
       "      <td>0.850209</td>\n",
       "    </tr>\n",
       "    <tr>\n",
       "      <th>1</th>\n",
       "      <td>Random Forest</td>\n",
       "      <td>{'n_estimators': 100, 'max_depth': 5}</td>\n",
       "      <td>0.539433</td>\n",
       "      <td>0.992235</td>\n",
       "      <td>0.697869</td>\n",
       "      <td>0.561067</td>\n",
       "    </tr>\n",
       "    <tr>\n",
       "      <th>2</th>\n",
       "      <td>XGBoost</td>\n",
       "      <td>{'n_estimators': 100, 'learning_rate': 0.1, 'm...</td>\n",
       "      <td>0.674866</td>\n",
       "      <td>0.895191</td>\n",
       "      <td>0.770538</td>\n",
       "      <td>0.724766</td>\n",
       "    </tr>\n",
       "  </tbody>\n",
       "</table>\n",
       "</div>"
      ],
      "text/plain": [
       "            Model Name                                         Parameters  \\\n",
       "0  Logistic Regression                                                 {}   \n",
       "1        Random Forest              {'n_estimators': 100, 'max_depth': 5}   \n",
       "2              XGBoost  {'n_estimators': 100, 'learning_rate': 0.1, 'm...   \n",
       "\n",
       "   Precision    Recall  F1_Score  Accuracy  \n",
       "0   0.835768  0.881452  0.903716  0.850209  \n",
       "1   0.539433  0.992235  0.697869  0.561067  \n",
       "2   0.674866  0.895191  0.770538  0.724766  "
      ]
     },
     "execution_count": 40,
     "metadata": {},
     "output_type": "execute_result"
    }
   ],
   "source": [
    "results_df"
   ]
  },
  {
   "cell_type": "markdown",
   "metadata": {},
   "source": [
    "# Summary of Model Performance\n",
    "\n",
    "Based on the evaluation metrics (Precision, Recall, F1-Score, and Accuracy), Logistic Regression appears to be the most suitable model for our hate speech detection task.\n",
    "\n",
    "Key Considerations:\n",
    "* Recall is crucial: Since correctly identifying all instances of hate speech (minimizing false negatives) is paramount, Recall is a highly important metric.\n",
    "* Logistic Regression demonstrates a strong balance between Precision and Recall, resulting in the highest F1-Score among the models.\n",
    "* While Random Forest achieves the highest Recall, it suffers from significantly lower Precision, indicating a high number of false positive (incorrectly classifying non-hate speech as hate speech).\n",
    "\n",
    "# Conclusion\n",
    "\n",
    "Given our primary objective of minimizing false negatives (high Recall) while maintaining reasonable Precision, Logistic Regression emerges as the most promising model for our hate speech detection system."
   ]
  },
  {
   "cell_type": "markdown",
   "metadata": {},
   "source": [
    "# LOGISTIC REGRESSION"
   ]
  },
  {
   "cell_type": "code",
   "execution_count": 53,
   "metadata": {},
   "outputs": [],
   "source": [
    "#Creating the logistic regression model\n",
    "model = LogisticRegression(random_state=42)\n",
    "\n",
    "model.fit(X_train_tfidf, y_train)\n",
    "\n",
    "# Predictions\n",
    "y_train_pred = model.predict(X_train_tfidf)\n",
    "y_test_pred = model.predict(X_test_tfidf)\n",
    "\n",
    "# Metrics\n",
    "Precision = precision_score(y_test, y_test_pred)\n",
    "Recall = recall_score(y_test, y_test_pred)\n",
    "\n",
    "F1_Score = f1_score(y_train, y_train_pred)\n",
    "Accuracy = accuracy_score(y_test, y_test_pred)\n",
    "\n"
   ]
  },
  {
   "cell_type": "markdown",
   "metadata": {},
   "source": [
    "# MODEL EVALUATION"
   ]
  },
  {
   "cell_type": "code",
   "execution_count": 54,
   "metadata": {},
   "outputs": [
    {
     "name": "stdout",
     "output_type": "stream",
     "text": [
      "                 precision    recall  f1-score   support\n",
      "\n",
      "Not hate speech       0.87      0.82      0.84     68227\n",
      "    Hate Speech       0.84      0.88      0.86     71988\n",
      "\n",
      "       accuracy                           0.85    140215\n",
      "      macro avg       0.85      0.85      0.85    140215\n",
      "   weighted avg       0.85      0.85      0.85    140215\n",
      "\n"
     ]
    }
   ],
   "source": [
    "\n",
    "# Create classification report for logistic regression model\n",
    "target_names = ['Not hate speech', 'Hate Speech']\n",
    "print(classification_report(y_test, y_test_pred, target_names=target_names))"
   ]
  },
  {
   "cell_type": "markdown",
   "metadata": {},
   "source": [
    "\n",
    "* The Logistic Regression model demonstrates a good overall performance in classifying hate speech. It shows a well-balanced performance across both classes, with relatively high Precision and Recall scores for both \"Not Hate Speech\" and \"Hate Speech.\" This indicates that the model effectively identifies both positive and negative instances of hate speech with reasonable accuracy."
   ]
  },
  {
   "cell_type": "code",
   "execution_count": null,
   "metadata": {},
   "outputs": [
    {
     "data": {
      "image/png": "[encoded data removed]",
      "text/plain": [
       "<Figure size 640x480 with 2 Axes>"
      ]
     },
     "metadata": {},
     "output_type": "display_data"
    }
   ],
   "source": [
    "# CONFUSION MATRIX\n",
    "\n",
    "#Creating the confusion matrix for our logistic regression\n",
    "log_cm = confusion_matrix(y_test, y_test_pred, labels = model.classes_)\n",
    "\n",
    "# Creating Display of our confusion matrix\n",
    "log_disp = ConfusionMatrixDisplay(log_cm, display_labels = model.classes_)\n",
    "\n",
    "#Plotting the confusion matrix\n",
    "log_disp.plot(values_format = '')\n",
    "\n",
    "#Displat plot\n",
    "plt.show()"
   ]
  },
  {
   "cell_type": "markdown",
   "metadata": {},
   "source": [
    "\n",
    "#### We can see from the classification table that our model can predict true Positives better than true negatives. So its good at predicting if a comment has hate speech\n",
    "\n",
    "* True Negatives = 55758 (correctly predicting non hate speech)\n",
    "* True Positives = 63454  (correctly predicting hate speech)\n",
    "* False Negatives = 12469 (incorrectly predicting non hate speech)\n",
    "* False Positives = 8534 (incorrectly predicting hate speech)\n"
   ]
  },
  {
   "cell_type": "code",
   "execution_count": null,
   "metadata": {},
   "outputs": [],
   "source": []
  },
  {
   "cell_type": "code",
   "execution_count": null,
   "metadata": {},
   "outputs": [],
   "source": []
  }
 ],
 "metadata": {
  "kernelspec": {
   "display_name": "base",
   "language": "python",
   "name": "python3"
  },
  "language_info": {
   "codemirror_mode": {
    "name": "ipython",
    "version": 3
   },
   "file_extension": ".py",
   "mimetype": "text/x-python",
   "name": "python",
   "nbconvert_exporter": "python",
   "pygments_lexer": "ipython3",
   "version": "3.12.7"
  }
 },
 "nbformat": 4,
 "nbformat_minor": 2
}
